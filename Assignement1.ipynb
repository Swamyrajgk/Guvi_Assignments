{
  "nbformat": 4,
  "nbformat_minor": 0,
  "metadata": {
    "colab": {
      "name": "Assignement1.ipynb",
      "provenance": [],
      "collapsed_sections": [],
      "authorship_tag": "ABX9TyMKVg47vdHWsFFqzDK3X40x",
      "include_colab_link": true
    },
    "kernelspec": {
      "name": "python3",
      "display_name": "Python 3"
    },
    "language_info": {
      "name": "python"
    }
  },
  "cells": [
    {
      "cell_type": "markdown",
      "metadata": {
        "id": "view-in-github",
        "colab_type": "text"
      },
      "source": [
        "<a href=\"https://colab.research.google.com/github/Swamyrajgk/Guvi_Assignments/blob/main/Assignement1.ipynb\" target=\"_parent\"><img src=\"https://colab.research.google.com/assets/colab-badge.svg\" alt=\"Open In Colab\"/></a>"
      ]
    },
    {
      "cell_type": "code",
      "source": [
        "import re\n",
        "import os\n",
        "import json\n",
        "\n",
        "\n",
        "\n",
        "def Registration():\n",
        "  email=input(\"Enter the Username for registration:\")\n",
        "  regex1 = '^[A-Za-z0-9]+[@]\\w+[.]\\w{2,3}$'\n",
        "  if(re.search  (regex1, email)):\n",
        "    pw=input(\"Enter the Password for registraion:\")\n",
        "    regex2 = \"^.*(?=.{6,15})(?=.*\\d)(?=.*[a-z])(?=.*[A-Z])(?=.*[@#$%^&+=]).*$\"\n",
        "    if(re.findall(regex2, pw)):\n",
        "        print(\"Valid Email and Password\")\n",
        "        Dic1={email:pw}\n",
        "        path = '/content/swamy.txt'\n",
        "        isExist = os.path.exists(path)\n",
        "        if isExist is False:\n",
        "          f = open(\"swamy.txt\", \"w\")\n",
        "          f.write(json.dumps(Dic1))\n",
        "          f.close()\n",
        "          print(\"Registration Successful\")\n",
        "    \n",
        "        else:\n",
        "          f = open(\"swamy.txt\", \"r\")\n",
        "          filecontents = f.read()\n",
        "          x = json.loads(filecontents)\n",
        "          f.close()\n",
        "          x.update(Dic1)\n",
        "          f = open(\"swamy.txt\", \"w\")\n",
        "          f.write(json.dumps(x))\n",
        "          f.close()\n",
        "          print(\"Registration Successful\")   \n",
        "    else:\n",
        "      print(\"Invalid Password, make sure the following conditions are satisfied:\"\n",
        "      \"\\n Your password must have:\"\n",
        "      \"\\n   one special character\"\n",
        "      \"\\n   one digit\"\n",
        "      \"\\n   one uppercase\"\n",
        "      \"\\n   one lowercase character\")\n",
        "  else:\n",
        "    print(\"Invalid Username, make sure the following conditions are satisfied:\" \n",
        "    \"\\n Username should have @ and followed by .\" \n",
        "    \"\\n There should not be any . immediate next to @\" \n",
        "    \"\\n It should not start with special characters and numbers\")\n",
        "\n",
        "\n",
        "\n",
        "\n",
        "def ForgotPassword():\n",
        "  Forgotpass_Email=input(\"Enter your email to retrieve your password: \")\n",
        "  f=open(\"swamy.txt\",\"r\")\n",
        "  filecontents=f.read()\n",
        "  x=json.loads(filecontents)\n",
        "  f.close()\n",
        "  if(Forgotpass_Email in x.keys()):\n",
        "    print(\"The Password for your email is: \",x[Forgotpass_Email])\n",
        "  else:\n",
        "    print(\"Go and Register\")\n",
        "\n",
        "def Login():\n",
        "  Login_Email = input(\"Enter your login email \")\n",
        "\n",
        "  f = open(\"swamy.txt\", \"r\")\n",
        "  filecontents = f.read()\n",
        "  x = json.loads(filecontents)\n",
        "  f.close()\n",
        "  if (Login_Email not in x.keys()):\n",
        "    print(\"Your email is not registered, please Register first and then Login\")\n",
        "  else:\n",
        "    Login_Password = input(\"Enter your login password \")\n",
        "    if (x[Login_Email] == Login_Password):\n",
        "      print(\"Login Successful\")\n",
        "    else:\n",
        "      print(\"Forgot Password? Please provide the email ID to retrieve the password\")\n",
        "      ForgotPassword()\n",
        "\n",
        "ini1=input(\"Enter 1 for Registraion \\nEnter 2 for Login\\n\")\n",
        "if ini1==\"1\":\n",
        "  Registration()\n",
        "\n",
        "elif ini1==\"2\":\n",
        "  Login()\n",
        "    \n",
        "else:\n",
        "  print(\"Ener a valid option\")"
      ],
      "metadata": {
        "id": "jhEKTv0OLogP",
        "colab": {
          "base_uri": "https://localhost:8080/"
        },
        "outputId": "0aa9f701-e792-4d8f-ed44-242cbb5daf89"
      },
      "execution_count": 5,
      "outputs": [
        {
          "output_type": "stream",
          "name": "stdout",
          "text": [
            "Enter 1 for Registraion \n",
            "Enter 2 for Login\n",
            "1\n",
            "Enter the Username for registration:Swamy@tnq.com\n",
            "Enter the Password for registraion:Swamy@12\n",
            "Valid Email and Password\n",
            "Registration Successful\n"
          ]
        }
      ]
    }
  ]
}